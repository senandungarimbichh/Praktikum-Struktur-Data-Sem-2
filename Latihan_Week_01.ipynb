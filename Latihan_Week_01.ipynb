{
  "nbformat": 4,
  "nbformat_minor": 0,
  "metadata": {
    "colab": {
      "provenance": [],
      "authorship_tag": "ABX9TyM0jEkWWR4jJqKxVV0T2pd5",
      "include_colab_link": true
    },
    "kernelspec": {
      "name": "python3",
      "display_name": "Python 3"
    },
    "language_info": {
      "name": "python"
    }
  },
  "cells": [
    {
      "cell_type": "markdown",
      "metadata": {
        "id": "view-in-github",
        "colab_type": "text"
      },
      "source": [
        "<a href=\"https://colab.research.google.com/github/senandungarimbichh/Praktikum-Struktur-Data-Sem-2/blob/main/Latihan_Week_01.ipynb\" target=\"_parent\"><img src=\"https://colab.research.google.com/assets/colab-badge.svg\" alt=\"Open In Colab\"/></a>"
      ]
    },
    {
      "cell_type": "code",
      "execution_count": null,
      "metadata": {
        "colab": {
          "base_uri": "https://localhost:8080/"
        },
        "id": "n-2l5XzPumSE",
        "outputId": "8859bbe5-d53a-4417-8d8d-4a92af866eed"
      },
      "outputs": [
        {
          "output_type": "stream",
          "name": "stdout",
          "text": [
            "npm_mahasiswa: [2430506050, 2430506051, 2430506052, 2430506053]\n"
          ]
        }
      ],
      "source": [
        "# latihan 1\n",
        "data = []\n",
        "npm_mahasiswa = [2430506050, 2430506051, 2430506052, 2430506053]\n",
        "print(\"npm_mahasiswa:\", npm_mahasiswa)"
      ]
    },
    {
      "cell_type": "code",
      "source": [
        "# latihan 2\n",
        "data = []\n",
        "npm_mahasiswa = [50, 51, 52, 53]\n",
        "print(\"npm_mahasiswa:\", npm_mahasiswa)\n",
        "# mengakses elemen array\n",
        "print(\"elemen pertama:\", npm_mahasiswa[0])   # elemen pertama\n",
        "print(\"elemen terakhir:\", npm_mahasiswa[-1])   #elemen terakhir\n",
        "# menghapus elemen menggunakan remove()\n",
        "npm_mahasiswa.remove(50)   # menghapus nilai 50\n",
        "print(\"array setelah menghapus elemen 50:\", npm_mahasiswa)\n",
        "# menghapus elemen menggunakan pop()\n",
        "npm_mahasiswa.pop(2)   # menghapus elemen pada indeks ke-2\n",
        "print(\"array setelah menghapus elemen pada indeks 2:\", npm_mahasiswa)"
      ],
      "metadata": {
        "colab": {
          "base_uri": "https://localhost:8080/"
        },
        "id": "jzQjZ5Sn3psO",
        "outputId": "511a0ae9-93b9-471f-8d5a-2d9cef543ff1"
      },
      "execution_count": null,
      "outputs": [
        {
          "output_type": "stream",
          "name": "stdout",
          "text": [
            "npm_mahasiswa: [50, 51, 52, 53]\n",
            "elemen pertama: 50\n",
            "elemen terakhir: 53\n",
            "array setelah menghapus elemen 50: [51, 52, 53]\n",
            "array setelah menghapus elemen pada indeks 2: [51, 52]\n"
          ]
        }
      ]
    },
    {
      "cell_type": "code",
      "source": [
        "# latihan 3\n",
        "Fakultas_Untidar = [\"Fakultas Teknik\",\n",
        "    \"Fakultas Ekonomi dan Bisnis\",\n",
        "    \"Fakultas Ilmu Sosial dan Ilmu Politik\",\n",
        "    \"Fakultas Pertanian\",\n",
        "    \"Fakultas Keguruan dan Ilmu Pendidikan\"]\n",
        "\n",
        "for Fakultas in Fakultas_Untidar:\n",
        "  print(\"Fakultas:\", Fakultas)"
      ],
      "metadata": {
        "colab": {
          "base_uri": "https://localhost:8080/"
        },
        "id": "4yvyYLQNArcG",
        "outputId": "7426d061-7fd7-4550-a393-d36245f69a50"
      },
      "execution_count": null,
      "outputs": [
        {
          "output_type": "stream",
          "name": "stdout",
          "text": [
            "Fakultas: Fakultas Teknik\n",
            "Fakultas: Fakultas Ekonomi dan Bisnis\n",
            "Fakultas: Fakultas Ilmu Sosial dan Ilmu Politik\n",
            "Fakultas: Fakultas Pertanian\n",
            "Fakultas: Fakultas Keguruan dan Ilmu Pendidikan\n"
          ]
        }
      ]
    },
    {
      "cell_type": "code",
      "source": [
        "# latian 4\n",
        "harga_barang = [10000, 20000, 30000, 40000, 50000]\n",
        "\n",
        "print(\"Jumlah total :\", sum(harga_barang))\n",
        "print(\"Nilai maksimum :\", max(harga_barang))\n",
        "print(\"Nilai minimum :\", min(harga_barang))"
      ],
      "metadata": {
        "colab": {
          "base_uri": "https://localhost:8080/"
        },
        "id": "7-5sapnXCwvc",
        "outputId": "fe059461-5fe5-4a45-abaa-6e293d8c2ec3"
      },
      "execution_count": null,
      "outputs": [
        {
          "output_type": "stream",
          "name": "stdout",
          "text": [
            "Jumlah total : 150000\n",
            "Nilai maksimum : 50000\n",
            "Nilai minimum : 10000\n"
          ]
        }
      ]
    },
    {
      "cell_type": "code",
      "source": [
        "# latian 5\n",
        "data = [\n",
        "    [1, 2, 3, 4],\n",
        "    [5, 6, 7, 8],\n",
        "    [9, 10, 11, 12]\n",
        "]\n",
        "data\n",
        "print(\"isi array 2D:\")\n",
        "for baris in data:\n",
        "    print(baris)"
      ],
      "metadata": {
        "colab": {
          "base_uri": "https://localhost:8080/"
        },
        "id": "tA_B1ZYs9bQ9",
        "outputId": "5602c05d-eba1-40b6-8d15-4767498da894"
      },
      "execution_count": null,
      "outputs": [
        {
          "output_type": "stream",
          "name": "stdout",
          "text": [
            "isi array 2D:\n",
            "[1, 2, 3, 4]\n",
            "[5, 6, 7, 8]\n",
            "[9, 10, 11, 12]\n"
          ]
        }
      ]
    },
    {
      "cell_type": "code",
      "source": [
        "# latian 6\n",
        "matriks = [\n",
        "    [1,2,3,4],   # Baris ke-0\n",
        "    [5,6,7,8],   # Baris ke-1\n",
        "    [9,10,11,12] # Baris ke-2\n",
        "]\n",
        "print(\"elemen pada baris 2, kolom 4 :\", matriks [1][3])"
      ],
      "metadata": {
        "colab": {
          "base_uri": "https://localhost:8080/"
        },
        "id": "Q8958OOh-cq4",
        "outputId": "4507249b-7e91-4b0f-e09c-0c351758d413"
      },
      "execution_count": null,
      "outputs": [
        {
          "output_type": "stream",
          "name": "stdout",
          "text": [
            "elemen pada baris 2, kolom 4 : 8\n"
          ]
        }
      ]
    },
    {
      "cell_type": "code",
      "source": [
        "# latian 7\n",
        "matriks = [\n",
        "    [1,2,3,4],\n",
        "    [5,6,7,8],\n",
        "    [9,10,11,12]\n",
        "]\n",
        "matriks.append([11,4,20,6])\n",
        "print(\"isi array setelah ditambahkan elemen baru:\", matriks)"
      ],
      "metadata": {
        "colab": {
          "base_uri": "https://localhost:8080/"
        },
        "id": "vMflL1hX_h3i",
        "outputId": "451cbb2d-c836-4610-d8a6-8ce7e39e51aa"
      },
      "execution_count": null,
      "outputs": [
        {
          "output_type": "stream",
          "name": "stdout",
          "text": [
            "isi array setelah ditambahkan elemen baru: [[1, 2, 3, 4], [5, 6, 7, 8], [9, 10, 11, 12], [11, 4, 20, 6]]\n"
          ]
        }
      ]
    },
    {
      "cell_type": "code",
      "source": [
        "# latian 8\n",
        "matriks = [\n",
        "    [1,2,3,4],\n",
        "    [5,6,7,8],\n",
        "    [9,10,11,12]\n",
        "]\n",
        "matriks[2].remove(10)\n",
        "print(\"isi array setelah menghapus elemen ke3 dari baris terakhir:\", matriks)"
      ],
      "metadata": {
        "colab": {
          "base_uri": "https://localhost:8080/"
        },
        "id": "IvKgyqlEferI",
        "outputId": "14ffe724-f5d5-42f1-e43f-63a704d5c916"
      },
      "execution_count": null,
      "outputs": [
        {
          "output_type": "stream",
          "name": "stdout",
          "text": [
            "isi array setelah menghapus elemen ke3 dari baris terakhir: [[1, 2, 3, 4], [5, 6, 7, 8], [9, 11, 12]]\n"
          ]
        }
      ]
    },
    {
      "cell_type": "code",
      "source": [
        "# latian 9\n",
        "matriks = [\n",
        "    [1,2,3,4],\n",
        "    [5,6,7,8],\n",
        "    [9,10,11,12]\n",
        "]\n",
        "matriks[2][3] = 20\n",
        "print(\"isi array setelah mengubah elemen baris ke3, kolom ke 4:\", matriks)"
      ],
      "metadata": {
        "colab": {
          "base_uri": "https://localhost:8080/"
        },
        "id": "ODq6jofKCw-E",
        "outputId": "f99a135d-4e35-4ab8-990d-7dd18ff4ae6e"
      },
      "execution_count": null,
      "outputs": [
        {
          "output_type": "stream",
          "name": "stdout",
          "text": [
            "isi array setelah mengubah elemen baris ke3, kolom ke 4: [[1, 2, 3, 4], [5, 6, 7, 8], [9, 10, 11, 20]]\n"
          ]
        }
      ]
    },
    {
      "cell_type": "code",
      "source": [
        "# latian 10\n",
        "belanja = [\"pajero\", \"innova reborn\", \"civic turbo\"]\n",
        "belanja.append(\"porsche\")\n",
        "belanja.remove(\"pajero\")\n",
        "print(\"daftar belanja terbaru:\", belanja)"
      ],
      "metadata": {
        "colab": {
          "base_uri": "https://localhost:8080/"
        },
        "id": "H006CUf0gZIu",
        "outputId": "8bb56ea1-dac6-458a-907e-60e6098ee62f"
      },
      "execution_count": null,
      "outputs": [
        {
          "output_type": "stream",
          "name": "stdout",
          "text": [
            "daftar belanja terbaru: ['innova reborn', 'civic turbo', 'porsche']\n"
          ]
        }
      ]
    }
  ]
}