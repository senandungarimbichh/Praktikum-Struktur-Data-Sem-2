{
  "nbformat": 4,
  "nbformat_minor": 0,
  "metadata": {
    "colab": {
      "provenance": []
    },
    "kernelspec": {
      "name": "python3",
      "display_name": "Python 3"
    },
    "language_info": {
      "name": "python"
    }
  },
  "cells": [
    {
      "cell_type": "code",
      "execution_count": 2,
      "metadata": {
        "id": "QbasBjEFKTNv",
        "colab": {
          "base_uri": "https://localhost:8080/"
        },
        "outputId": "ddc8d659-95b3-4fd6-b6e1-eea526c5e5ee"
      },
      "outputs": [
        {
          "output_type": "stream",
          "name": "stdout",
          "text": [
            "Jumlah ukuran peta: 4\n",
            "Selamat datang di Treasure Hunt! Peta memiliki 4 lokasi (0 hinnga 3).\n",
            "\n",
            "Harta karun telah disembunyikan! sekarang giliran pemain menebak.\n",
            "Cobalah untuk menemukan harta karun dengan menebak indeks yang benar.\n",
            "\n",
            "Peta saat ini:  ['_', '_', '_', '_']\n",
            "Masukan indeks tebakanmu (0-3): 2\n",
            "Tidak ada harta di lokasi ini. Coba lagi!\n",
            "\n",
            "Peta saat ini:  ['_', '_', '_', '_']\n",
            "Masukan indeks tebakanmu (0-3): 3\n",
            "\n",
            "['_', '_', '_', 'X']\n",
            "Selamat! Kamu menemukan harta karun di lokasi: 3\n",
            "Terima kasih sudah bermain!\n"
          ]
        }
      ],
      "source": [
        "# Untuk gunakan library random\n",
        "import random\n",
        "# Ukuran peta\n",
        "# Menginputkan ukuran petta\n",
        "size = int(input(\"Jumlah ukuran peta: \"))\n",
        "\n",
        "# Membuat peta dengan harta karun tersembunyi\n",
        "# Untuk menghasilkan elemen \"_\" sebanyak dengan jumlah size tsb\n",
        "treasure_map = [\"_\" for _ in range(size) ]\n",
        "\n",
        "# Tentukan lokasi harta karun secara manualS\n",
        "# Kode ini digunakan untuk menunjukkan batas size yang telah dutentukan\n",
        "print(f\"Selamat datang di Treasure Hunt! Peta memiliki {size} lokasi (0 hinnga {size-1}).\")\n",
        "\n",
        "# Digunakan untuk menentukan index yang akan dipakai untuk menebak lokasi harta karun tsb\n",
        "treasure_index = random.randint(0, size - 1)\n",
        "\n",
        "# Menginputkan lokasi atau titik harta karun\n",
        "treasure_map[treasure_index] = \"X\" # Menyembunyikan harta karun di lokasi yang dipilih\n",
        "\n",
        "# Fungsi untuk memulai permainan\n",
        "def play_treasure_hunt() :\n",
        "  print(\"\\nHarta karun telah disembunyikan! sekarang giliran pemain menebak.\")\n",
        "  print(\"Cobalah untuk menemukan harta karun dengan menebak indeks yang benar.\")\n",
        "\n",
        "  # Loop permainan\n",
        "  while True :\n",
        "    # Menampilkan peta tersebunyi kepada pemain\n",
        "    print(\"\\nPeta saat ini: \", [\"_\" for _ in range(size)]) #  Peta tersembunyi\n",
        "\n",
        "    # Input pemain\n",
        "    try :\n",
        "      # Menginputkan indeks harta karun yang akan di tebak\n",
        "      guess = int(input(f\"Masukan indeks tebakanmu (0-{size - 1}): \"))\n",
        "    except:\n",
        "      # Jika inputan tidak valid maka akan masuk keaksi ini\n",
        "      print(\"Masukan angka yang valid!\")\n",
        "      # Berufungsi untuk melompati perulangan atau ke perulangan selanjutnya\n",
        "\n",
        "      continue\n",
        "\n",
        "    # Validasi input\n",
        "    # Jika indeks tidak valid maka akan ke perulangan selanjutnya \"continue\"\n",
        "    if guess < 0 or guess >= size:\n",
        "      print(\"Indeks tidak valid, pilih antara 0 hingga\", size-1)\n",
        "\n",
        "      continue\n",
        "\n",
        "    # Jika tebakan indeks sesuai dengan letak harta karun, maka proses ini akan dilakukan\n",
        "    if treasure_map[guess] == \"X\":\n",
        "      print(\"\")\n",
        "\n",
        "      # Menunjukkan letak harta karun\n",
        "      print( treasure_map )\n",
        "      print(\"Selamat! Kamu menemukan harta karun di lokasi:\", guess)\n",
        "      break\n",
        "    else :\n",
        "      print(\"Tidak ada harta di lokasi ini. Coba lagi!\")\n",
        "\n",
        "  print(\"Terima kasih sudah bermain!\")\n",
        "\n",
        "# Jalankan permainan\n",
        "play_treasure_hunt()\n"
      ]
    }
  ]
}